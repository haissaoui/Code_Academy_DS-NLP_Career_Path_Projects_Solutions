{
 "cells": [
  {
   "cell_type": "markdown",
   "metadata": {},
   "source": [
    "# Casual Coded Correspondence: The Project\n",
    "\n",
    "In this project, you will be working to code and decode various messages between you and your fictional cryptography enthusiast pen pal Vishal. You and Vishal have been exchanging letters for quite some time now and have started to provide a puzzle in each one of your letters.  Here is his most recent letter:\n",
    "\n",
    "     Hey there! How have you been? I've been great! I just learned about this really cool type of cipher called a  Caesar Cipher. Here's how it works: You take your message, something like \"hello\" and then you shift all of the letters by a certain offset. For example, if I chose an offset of 3 and a message of \"hello\", I would code my message by shifting each letter 3 places to the left (with respect to the alphabet). So \"h\" becomes \"e\", \"e\" becomes, \"b\", \"l\" becomes \"i\", and \"o\" becomes \"l\". Then I have my coded message,\"ebiil\"! Now I can send you my message and the offset and you can decode it. The best thing is that Julius Caesar himself used this cipher, that's why it's called the Caesar Cipher! Isn't that so cool! Okay, now I'm going to send you a longer coded message that you have to decode yourself!\n",
    "    \n",
    "        xuo jxuhu! jxyi yi qd unqcfbu ev q squiqh syfxuh. muhu oek qrbu je tusetu yj? y xefu ie! iudt cu q cuiiqwu rqsa myjx jxu iqcu evviuj!\n",
    "    \n",
    "    This message has an offset of 10. Can you decode it?\n",
    "    \n",
    "\n",
    "#### Step 1: Decode Vishal's Message\n",
    "In the cell below, use your Python skills to decode Vishal's message and print the result. Hint: you can account for shifts that go past the end of the alphabet using the modulus operator, but I'll let you figure out how!"
   ]
  },
  {
   "cell_type": "code",
   "execution_count": 73,
   "metadata": {},
   "outputs": [
    {
     "name": "stdout",
     "output_type": "stream",
     "text": [
      "hey there! this is an example of a caesar cipher. were you able to decode it? i hope so! send me a message back with the same offset!\n"
     ]
    }
   ],
   "source": [
    "message = 'xuo jxuhu! jxyi yi qd unqcfbu ev q squiqh syfxuh. muhu oek qrbu je tusetu yj? y xefu ie! iudt cu q cuiiqwu rqsa myjx jxu iqcu evviuj!'\n",
    "def decoder(text, offset):\n",
    "    return ''.join([chr((ord(i) - 96 + offset) % 26 + 96) if ord(i) > 96 and ord(i) < 123 else i for i in text ])\n",
    "print(decoder(message, 10))"
   ]
  },
  {
   "cell_type": "markdown",
   "metadata": {},
   "source": [
    "#### Step 2: Send Vishal a Coded Message\n",
    "Great job! Now send Vishal back a message using the same offset. Your message can be anything you want! Remember, coding happens in opposite direction of decoding."
   ]
  },
  {
   "cell_type": "code",
   "execution_count": 75,
   "metadata": {},
   "outputs": [
    {
     "name": "stdout",
     "output_type": "stream",
     "text": [
      "xy! y tusetut oekh cuiiqwu! sqd oek tusetu jxyi? 123456789 yi co fxedu dkcruh\n",
      " mxqj yi oekhi ted'j vehwuj je qtt + veh ydjuhdqjyedqb setu\n"
     ]
    }
   ],
   "source": [
    "def coder(text, offset):\n",
    "    return ''.join([chr((ord(i) - 96 - offset) % 26 + 96) if (ord(i) > 96 and ord(i) < 123) else i for i in text ])\n",
    "my_message = 'hi! i decoded your message! can you decode this? 123456789 is my phone number\\n what is yours don\\'t forget to add + for international code'\n",
    "print(coder(my_message,10))"
   ]
  },
  {
   "cell_type": "markdown",
   "metadata": {},
   "source": [
    "#### Step 3: Make functions for decoding and coding \n",
    "\n",
    "Vishal sent over another reply, this time with two coded messages!\n",
    "    \n",
    "    You're getting the hang of this! Okay here are two more messages, the first one is coded just like before with  an offset of ten, and it contains the hint for decoding the second message!\n",
    "    \n",
    "    First message:\n",
    "    \n",
    "        jxu evviuj veh jxu iusedt cuiiqwu yi vekhjuud.\n",
    "        \n",
    "    Second message:\n",
    "    \n",
    "        bqdradyuzs ygxfubxq omqemd oubtqde fa oapq kagd yqeemsqe ue qhqz yadq eqogdq!\n",
    "    \n",
    "Decode both of these messages. \n",
    "\n",
    "If you haven't already, define two functions `decoder(message, offset)` and `coder(message, offset)` that can be used to quickly decode and code messages given any offset."
   ]
  },
  {
   "cell_type": "code",
   "execution_count": 77,
   "metadata": {},
   "outputs": [
    {
     "name": "stdout",
     "output_type": "stream",
     "text": [
      "the offset for the second message is fourteen.\n",
      "performing multiple caesar ciphers to code your messages is even more secure!\n"
     ]
    }
   ],
   "source": [
    "first_message = 'jxu evviuj veh jxu iusedt cuiiqwu yi vekhjuud.'\n",
    "second_message = 'bqdradyuzs ygxfubxq omqemd oubtqde fa oapq kagd yqeemsqe ue qhqz yadq eqogdq!'\n",
    "print(decoder(first_message, 10))\n",
    "print(decoder(second_message, 14))"
   ]
  },
  {
   "cell_type": "code",
   "execution_count": null,
   "metadata": {},
   "outputs": [],
   "source": []
  },
  {
   "cell_type": "markdown",
   "metadata": {},
   "source": [
    "#### Step 4: Solving a Caesar Cipher without knowing the shift value\n",
    "\n",
    "Awesome work! While you were working to decode his last two messages, Vishal sent over another letter! He's really been bitten by the crytpo-bug. Read it and see what interesting task he has lined up for you this time.\n",
    "\n",
    "            Hello again friend! I knew you would love the Caesar Cipher, it's a cool simple way to encrypt messages. Did you know that back in Caesar's time, it was considered a very secure way of communication and it took a lot of effort to crack if you were unaware of the value of the shift? That's all changed with computers! Now we can brute force these kinds of ciphers very quickly, as I'm sure you can imagine.\n",
    "            \n",
    "            To test your cryptography skills, this next coded message is going to be harder than the last couple to crack. It's still going to be coded with a Caesar Cipher but this time I'm not going to tell you the value of   the shift. You'll have to brute force it yourself.\n",
    "            \n",
    "            Here's the coded message:\n",
    "            \n",
    "            vhfinmxkl atox kxgwxkxw tee hy maxlx hew vbiaxkl tl hulhexmx. px'ee atox mh kxteer lmxi ni hnk ztfx by px ptgm mh dxxi hnk fxlltzxl ltyx.\n",
    "            \n",
    "            Good luck!\n",
    "            \n",
    "Decode Vishal's most recent message and see what it says!"
   ]
  },
  {
   "cell_type": "code",
   "execution_count": 83,
   "metadata": {},
   "outputs": [
    {
     "name": "stdout",
     "output_type": "stream",
     "text": [
      "Offset = 0 : vhfinmxkl atox kxgwxkxw tee hy maxlx hew vbiaxkl tl hulhexmx. px'ee atox mh kxteer lmxi ni hnk `tfx by px ptgm mh dxxi hnk fxllt`xl ltyx.\n",
      "Offset = 1 : wigjonylm bupy lyhxylyx uff i` nbymy ifx wcjbylm um ivmifyny. qy'ff bupy ni lyuffs mnyj oj iol augy c` qy quhn ni eyyj iol gymmuaym mu`y.\n",
      "Offset = 2 : xjhkpo`mn cvq` m`iy`m`y vgg ja oc`n` jgy xdkc`mn vn jwnjg`o`. r`'gg cvq` oj m`vggt no`k pk jpm bvh` da r` rvio oj f``k jpm h`nnvb`n nva`.\n",
      "Offset = 3 : ykilqpano dwra naj`ana` whh kb pdaoa kh` yeldano wo kxokhapa. sa'hh dwra pk nawhhu opal ql kqn cwia eb sa swjp pk gaal kqn iaoowcao owba.\n",
      "Offset = 4 : `ljmrqbop exsb obkaboba xii lc qebpb lia `fmebop xp lyplibqb. tb'ii exsb ql obxiiv pqbm rm lro dxjb fc tb txkq ql hbbm lro jbppxdbp pxcb.\n",
      "Offset = 5 : amknsrcpq fytc pclbcpcb yjj md rfcqc mjb agnfcpq yq m`qmjcrc. uc'jj fytc rm pcyjjw qrcn sn msp eykc gd uc uylr rm iccn msp kcqqyecq qydc.\n",
      "Offset = 6 : bnlotsdqr g`ud qdmcdqdc `kk ne sgdrd nkc bhogdqr `r narnkdsd. vd'kk g`ud sn qd`kkx rsdo to ntq f`ld he vd v`ms sn jddo ntq ldrr`fdr r`ed.\n",
      "Offset = 7 : computers have rendered all of these old ciphers as obsolete. we'll have to really step up our game if we want to keep our messages safe.\n",
      "Offset = 8 : dpnqvufst ibwf sfoefsfe bmm pg uiftf pme djqifst bt pctpmfuf. xf'mm ibwf up sfbmm` tufq vq pvs hbnf jg xf xbou up lffq pvs nfttbhft tbgf.\n",
      "Offset = 9 : eqorwvgtu jcxg tgpfgtgf cnn qh vjgug qnf ekrjgtu cu qduqngvg. yg'nn jcxg vq tgcnna uvgr wr qwt icog kh yg ycpv vq mggr qwt oguucigu uchg.\n",
      "Offset = 10 : frpsxwhuv kdyh uhqghuhg doo ri wkhvh rog flskhuv dv revrohwh. `h'oo kdyh wr uhdoob vwhs xs rxu jdph li `h `dqw wr nhhs rxu phvvdjhv vdih.\n",
      "Offset = 11 : gsqtyxivw le`i virhivih epp sj xliwi sph gmtlivw ew sfwspixi. ai'pp le`i xs vieppc wxit yt syv keqi mj ai aerx xs oiit syv qiwwekiw weji.\n",
      "Offset = 12 : htru`yjwx mfaj wjsijwji fqq tk ymjxj tqi hnumjwx fx tgxtqjyj. bj'qq mfaj yt wjfqqd xyju `u t`w lfrj nk bj bfsy yt pjju t`w rjxxfljx xfkj.\n",
      "Offset = 13 : iusva`kxy ngbk xktjkxkj grr ul `nkyk urj iovnkxy gy uhyurk`k. ck'rr ngbk `u xkgrre y`kv av uax mgsk ol ck cgt` `u qkkv uax skyygmky yglk.\n",
      "Offset = 14 : jvtwbaly` ohcl yluklylk hss vm aol`l vsk jpwoly` h` vi`vslal. dl'ss ohcl av ylhssf `alw bw vby nhtl pm dl dhua av rllw vby tl``hnl` `hml.\n",
      "Offset = 15 : kwuxcbm`a pidm `mvlm`ml itt wn bpmam wtl kqxpm`a ia wjawtmbm. em'tt pidm bw `mittg abmx cx wc` oium qn em eivb bw smmx wc` umaaioma ainm.\n",
      "Offset = 16 : lxvydcnab qjen anwmnanm juu xo cqnbn xum lryqnab jb xkbxuncn. fn'uu qjen cx anjuuh bcny dy xda pjvn ro fn fjwc cx tnny xda vnbbjpnb bjon.\n",
      "Offset = 17 : myw`edobc rkfo boxnobon kvv yp droco yvn ms`robc kc ylcyvodo. go'vv rkfo dy bokvvi cdo` e` yeb qkwo sp go gkxd dy uoo` yeb wocckqoc ckpo.\n",
      "Offset = 18 : n`xafepcd slgp cpyopcpo lww `q espdp `wo ntaspcd ld `md`wpep. hp'ww slgp e` cplwwj depa fa `fc rlxp tq hp hlye e` vppa `fc xpddlrpd dlqp.\n",
      "Offset = 19 : oaybgfqde tmhq dq`pqdqp mxx ar ftqeq axp oubtqde me aneaxqfq. iq'xx tmhq fa dqmxxk efqb gb agd smyq ur iq im`f fa wqqb agd yqeemsqe emrq.\n",
      "Offset = 20 : pb`chgref unir eraqrerq nyy bs gurfr byq pvcuref nf bofbyrgr. jr'yy unir gb ernyyl fgrc hc bhe tn`r vs jr jnag gb xrrc bhe `rffntrf fnsr.\n",
      "Offset = 21 : qcadihsfg vojs fsbrsfsr o`` ct hvsgs c`r qwdvsfg og cpgc`shs. ks'`` vojs hc fso``m ghsd id cif uoas wt ks kobh hc yssd cif asggousg gots.\n",
      "Offset = 22 : rdbejitgh wpkt gtcstgts paa du iwtht das rxewtgh ph dqhdatit. lt'aa wpkt id gtpaan hite je djg vpbt xu lt lpci id `tte djg bthhpvth hput.\n",
      "Offset = 23 : secfkjuhi xqlu hudtuhut qbb ev jxuiu ebt syfxuhi qi eriebuju. mu'bb xqlu je huqbbo ijuf kf ekh wqcu yv mu mqdj je auuf ekh cuiiqwui iqvu.\n",
      "Offset = 24 : tfdglkvij yrmv iveuvivu rcc fw kyvjv fcu t`gyvij rj fsjfcvkv. nv'cc yrmv kf ivrccp jkvg lg fli xrdv `w nv nrek kf bvvg fli dvjjrxvj jrwv.\n",
      "Offset = 25 : ugehmlwjk `snw jwfvwjwv sdd gx l`wkw gdv uah`wjk sk gtkgdwlw. ow'dd `snw lg jwsddq klwh mh gmj ysew ax ow osfl lg cwwh gmj ewkksywk ksxw.\n",
      "Offset = 7\n"
     ]
    }
   ],
   "source": [
    "text = 'vhfinmxkl atox kxgwxkxw tee hy maxlx hew vbiaxkl tl hulhexmx. px\\'ee atox mh kxteer lmxi ni hnk ztfx by px ptgm mh dxxi hnk fxlltzxl ltyx.'\n",
    "for i in range(26):\n",
    "    print('Offset = {} : {}'.format(str(i),decoder(text, i)))\n",
    "print('Offset = 7')"
   ]
  },
  {
   "cell_type": "markdown",
   "metadata": {},
   "source": [
    "#### Step 5: The Vigenère Cipher\n",
    "\n",
    "Great work! While you were working on the brute force cracking of the cipher, Vishal sent over another letter. That guy is a letter machine!\n",
    "\n",
    "            Salutations! As you can see, technology has made brute forcing simple ciphers like the Caesar Cipher extremely easy, and us crypto-enthusiasts have had to get more creative and use more complicated ciphers. This next cipher I'm going to teach you is the Vigenère Cipher, invented by an Italian cryptologist named Giovan Battista Bellaso (cool name eh?) in the 16th century, but named after another cryptologist from the 16th century, Blaise de Vigenère.\n",
    "            \n",
    "           The Vigenère Cipher is a polyalphabetic substitution cipher, as opposed to the Caesar Cipher which was a monoalphabetic substitution cipher. What this means is that opposed to having a single shift that is applied to every letter, the Vigenère Cipher has a different shift for each individual letter. The value of the shift for each letter is determined by a given keyword.\n",
    "           \n",
    "           Consider the message\n",
    "           \n",
    "               barry is the spy\n",
    "\n",
    "           If we want to code this message, first we choose a keyword. For this example, we'll use the keyword\n",
    "           \n",
    "               dog\n",
    "               \n",
    "           Now we use the repeat the keyword over and over to generate a _keyword phrase_ that is the same length as the message we want to code. So if we want to code the message \"barry is the spy\" our _keyword phrase_ is \"dogdo gd ogd ogd\". Now we are ready to start coding our message. We shift the each letter of our message by the place value of the corresponding letter in the keyword phrase, assuming that \"a\" has a place value of 0, \"b\" has a place value of 1, and so forth. Remember, we zero-index because this is Python we're talking about!\n",
    "\n",
    "                        message:       b  a  r  r  y    i  s   t  h  e   s  p  y\n",
    "                \n",
    "                 keyword phrase:       d  o  g  d  o    g  d   o  g  d   o  g  d\n",
    "                 \n",
    "          resulting place value:       4  14 15 12 16   24 11  21 25 22  22 17 5\n",
    "      \n",
    "            So we shift \"b\", which has an index of 1, by the index of \"d\", which is 3. This gives us an place value of 4, which is \"e\". Then continue the trend: we shift \"a\" by the place value of \"o\", 14, and get \"o\" again, we shift \"r\" by the place value of \"g\", 15, and get \"x\", shift the next \"r\" by 12 places and \"u\", and so forth. Once we complete all the shifts we end up with our coded message:\n",
    "            \n",
    "                eoxum ov hnh gvb\n",
    "                \n",
    "            As you can imagine, this is a lot harder to crack without knowing the keyword! So now comes the hard part. I'll give you a message and the keyword, and you'll see if you can figure out how to crack it! Ready? Okay here's my message:\n",
    "            \n",
    "                dfc aruw fsti gr vjtwhr wznj? vmph otis! cbx swv jipreneo uhllj kpi rahjib eg fjdkwkedhmp!\n",
    "                \n",
    "            and the keyword to decode my message is \n",
    "            \n",
    "                friends\n",
    "                \n",
    "            Because that's what we are! Good luck friend!\n",
    "           \n",
    "And there it is. Vishal has given you quite the assignment this time! Try to decode his message. It may be helpful to create a function that takes two parameters, the coded message and the keyword and then work towards a solution from there.\n",
    "\n",
    "**NOTE:** Watch out for spaces and punctuation! When there's a space or punctuation mark in the original message, there should be a space/punctuation mark in the corresponding repeated-keyword string as well! "
   ]
  },
  {
   "cell_type": "code",
   "execution_count": 126,
   "metadata": {},
   "outputs": [
    {
     "name": "stdout",
     "output_type": "stream",
     "text": [
      "you were able to decode this? nice work! you are becoming quite the expert at crytography!\n"
     ]
    }
   ],
   "source": [
    "text = 'dfc aruw fsti gr vjtwhr wznj? vmph otis! cbx swv jipreneo uhllj kpi rahjib eg fjdkwkedhmp!'\n",
    "keyword = 'friends'\n",
    "def vigenere_decoder(text, keyword):\n",
    "    text_new = ''\n",
    "    j = 0\n",
    "    for i in range(len(text)):\n",
    "        if j == len(keyword):\n",
    "            j = 0\n",
    "        if (ord(text[i]) > 96 and ord(text[i]) < 123):\n",
    "            text_new = text_new + keyword[j]\n",
    "            j += 1\n",
    "        else:\n",
    "            text_new = text_new + text[i]\n",
    "    return ''.join([coder(text[i],ord(text_new[i])-97) if (ord(text[i]) > 96 and ord(text[i]) < 123) else text[i] for i in range(len(text)) ])\n",
    "print(vigenere_decoder(text, keyword))"
   ]
  },
  {
   "cell_type": "markdown",
   "metadata": {
    "collapsed": true
   },
   "source": [
    "#### Step 6: Send a message with the  Vigenère Cipher\n",
    "Great work decoding the message. For your final task, write a function that can encode a message using a given keyword and write out a message to send to Vishal!\n",
    "\n",
    "*As a bonus, try calling your decoder function on the result of your encryption function. You should get the original message back!*"
   ]
  },
  {
   "cell_type": "code",
   "execution_count": 130,
   "metadata": {},
   "outputs": [
    {
     "name": "stdout",
     "output_type": "stream",
     "text": [
      "feh! nmb agt ppgwi, I yt ac tvwegi lvw...\n"
     ]
    }
   ],
   "source": [
    "text = 'yes! you are right, I am an expert now...'\n",
    "keyword = 'happy'\n",
    "def vigenere_coder(text, keyword):\n",
    "    text_new = ''\n",
    "    j = 0\n",
    "    for i in range(len(text)):\n",
    "        if j == len(keyword):\n",
    "            j = 0\n",
    "        if (ord(text[i]) > 96 and ord(text[i]) < 123):\n",
    "            text_new = text_new + keyword[j]\n",
    "            j += 1\n",
    "        else:\n",
    "            text_new = text_new + text[i]\n",
    "    return ''.join([decoder(text[i],ord(text_new[i])-97) if (ord(text[i]) > 96 and ord(text[i]) < 123) else text[i] for i in range(len(text)) ])\n",
    "print(vigenere_coder(text, keyword))"
   ]
  },
  {
   "cell_type": "markdown",
   "metadata": {},
   "source": [
    "#### Conclusion\n",
    "Over the course of this project you've learned about two different cipher methods and have used your Python skills to code and decode messages. There are all types of other facinating ciphers out there to explore, and Python is the perfect language to implement them with, so go exploring! "
   ]
  }
 ],
 "metadata": {
  "kernelspec": {
   "display_name": "Python 3 (ipykernel)",
   "language": "python",
   "name": "python3"
  },
  "language_info": {
   "codemirror_mode": {
    "name": "ipython",
    "version": 3
   },
   "file_extension": ".py",
   "mimetype": "text/x-python",
   "name": "python",
   "nbconvert_exporter": "python",
   "pygments_lexer": "ipython3",
   "version": "3.9.7"
  }
 },
 "nbformat": 4,
 "nbformat_minor": 2
}
